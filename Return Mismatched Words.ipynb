{
 "cells": [
  {
   "cell_type": "code",
   "execution_count": 1,
   "id": "dd242948",
   "metadata": {},
   "outputs": [
    {
     "name": "stdout",
     "output_type": "stream",
     "text": [
      "Enter the first string: This is my first string\n",
      "Enter the second string: This is my second string\n",
      "['first', 'second']\n"
     ]
    }
   ],
   "source": [
    "'''Considerations\n",
    "- Two string arrays are compared\n",
    "- case sensitive\n",
    "- only characters and spaces are expected\n",
    "- return all mismatched words from first string- then seconds string\n",
    "\n",
    "1. Get string1 and string2 in a list\n",
    "2. For each element in string 1 compare if it exists in string 2- if yes- ignore and note the index in string2 to ignore\n",
    "'''\n",
    "string1=input('Enter the first string: ')\n",
    "string2=input('Enter the second string: ')\n",
    "string1=string1.split()\n",
    "string2=string2.split()\n",
    "#print(string1)\n",
    "#print(string2)\n",
    "ignore_list=[]\n",
    "mismatched_list=[]\n",
    "for element1 in string1:\n",
    "    if element1 in string2:\n",
    "        ignore_list.append(element1)\n",
    "    else:\n",
    "        mismatched_list.append(element1)\n",
    "for element2 in string2:\n",
    "    if element2 not in ignore_list:\n",
    "        mismatched_list.append(element2)\n",
    "print(mismatched_list)       "
   ]
  }
 ],
 "metadata": {
  "kernelspec": {
   "display_name": "Python 3 (ipykernel)",
   "language": "python",
   "name": "python3"
  },
  "language_info": {
   "codemirror_mode": {
    "name": "ipython",
    "version": 3
   },
   "file_extension": ".py",
   "mimetype": "text/x-python",
   "name": "python",
   "nbconvert_exporter": "python",
   "pygments_lexer": "ipython3",
   "version": "3.9.7"
  }
 },
 "nbformat": 4,
 "nbformat_minor": 5
}
