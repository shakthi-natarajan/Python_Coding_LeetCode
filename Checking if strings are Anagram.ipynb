{
 "cells": [
  {
   "cell_type": "code",
   "execution_count": 24,
   "id": "19207522",
   "metadata": {},
   "outputs": [
    {
     "name": "stdout",
     "output_type": "stream",
     "text": [
      "Enter string1 Clint Eastwood\n",
      "Enter String2 old west action\n",
      "['c', 'l', 'i', 'n', 't', 'e', 'a', 's', 't', 'w', 'o', 'o', 'd'] ['o', 'l', 'd', 'w', 'e', 's', 't', 'a', 'c', 't', 'i', 'o', 'n']\n",
      "c 1\n",
      "l 1\n",
      "i 1\n",
      "n 1\n",
      "t 2\n",
      "e 1\n",
      "a 1\n",
      "s 1\n",
      "t 2\n",
      "w 1\n",
      "o 2\n",
      "o 2\n",
      "d 1\n",
      "Yohoo! It is an anagram\n"
     ]
    }
   ],
   "source": [
    "string1=input(\"Enter string1 \")\n",
    "string2=input(\"Enter String2 \")\n",
    "List1=list(string1.replace(\" \",\"\").lower())\n",
    "List2=list(string2.replace(\" \",\"\").lower())\n",
    "print(List1, List2)\n",
    "\n",
    "if (len(List1)==len(List2)):\n",
    "    #print(\"Same length\")\n",
    "    #Length of each character in first string\n",
    "    for i, val1 in enumerate(List1):\n",
    "        flag=0\n",
    "        counter1=1\n",
    "        for j, val2 in enumerate(List1):\n",
    "            if(i !=j):\n",
    "                if(val1==val2):\n",
    "                    counter1=counter1+1\n",
    "        #print(val1, counter1)\n",
    "        \n",
    "        #Loop in List2\n",
    "        counter2=0\n",
    "        for k, val3 in enumerate(List2):            \n",
    "            if(val1==val3):\n",
    "                counter2=counter2+1\n",
    "        if(counter1==counter2):\n",
    "            flag=1          \n",
    "        else:\n",
    "            print('Nope! Not an anagram')\n",
    "            break;\n",
    "    if(flag==1):\n",
    "        print('Yohoo! It is an anagram')\n",
    "    \n",
    "else:\n",
    "    print('Nope! Not an anagram')    "
   ]
  },
  {
   "cell_type": "code",
   "execution_count": null,
   "id": "e43b768b",
   "metadata": {},
   "outputs": [],
   "source": []
  }
 ],
 "metadata": {
  "kernelspec": {
   "display_name": "Python 3 (ipykernel)",
   "language": "python",
   "name": "python3"
  },
  "language_info": {
   "codemirror_mode": {
    "name": "ipython",
    "version": 3
   },
   "file_extension": ".py",
   "mimetype": "text/x-python",
   "name": "python",
   "nbconvert_exporter": "python",
   "pygments_lexer": "ipython3",
   "version": "3.9.7"
  }
 },
 "nbformat": 4,
 "nbformat_minor": 5
}
