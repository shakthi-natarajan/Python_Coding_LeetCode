{
 "cells": [
  {
   "cell_type": "markdown",
   "id": "76864639",
   "metadata": {},
   "source": [
    "A balanced array would be an array in which each element appears the same number of times.\n",
    "Given an array with n elements, return a dictionary with the key as the element and the value as the count of elements needed to balance the given array.\n",
    "Signature \n",
    "HashMap<Object, Integer> returnMissingBalancedNumbers(Object[] elements)\n",
    "Input \n",
    "Array of mixed elements (integers, strings, etc.)\n",
    "Output\n",
    "Object with a mixed key, and an integer value\n",
    "Examples\n",
    "elements: [\"a\", \"b\", \"abc\", \"c\", \"a\"]\n",
    "output: {\"b\":1, \"abc\":1, \"c\":1}\n",
    "\n",
    "elements: [1,3,4,2,1,4,1]\n",
    "output: {2:2, 3:2, 4:1}\n",
    "\n",
    "elements: [4,5,11,5,6,11]\n",
    "output: {4:1,6:1}"
   ]
  },
  {
   "cell_type": "code",
   "execution_count": 6,
   "id": "f585c756",
   "metadata": {},
   "outputs": [
    {
     "name": "stdout",
     "output_type": "stream",
     "text": [
      "Enter the list of elements separated by comma: 1,2,3,pop,1,23,pop\n",
      "{'1': 0, '2': 1, '3': 1, 'pop': 0, '23': 1}\n"
     ]
    }
   ],
   "source": [
    "''' Considerations:\n",
    "Input- list\n",
    "Output- dicttionary\n",
    "Consider both numeric and string for input\n",
    "1. Get input as list\n",
    "2. Traverse through list and count occurance fro each item- sttore it in a dict\n",
    "3. get the max occuring element count\n",
    "4. Subtract max from occurances for each element\n",
    "'''\n",
    "string1=input('Enter the list of elements separated by comma: ')\n",
    "list1=list(string1.split(','))\n",
    "dict1={}\n",
    "list2=[]\n",
    "value_list=[]\n",
    "final_dict={}\n",
    "#print(list1)\n",
    "for element in list1:\n",
    "    count=0\n",
    "    if len(dict1)==0:\n",
    "        dict1[element]=count+1\n",
    "        list2.append(element)\n",
    "    elif element in list2:\n",
    "        dict1[element]=dict1[element]+1\n",
    "    else:\n",
    "        dict1[element]=count+1\n",
    "        list2.append(element)\n",
    "max_value=max(dict1.values())\n",
    "#print(max_value)\n",
    "for k,v in dict1.items():\n",
    "    final_dict[k]=max_value-dict1[k]\n",
    "print(final_dict)"
   ]
  },
  {
   "cell_type": "code",
   "execution_count": null,
   "id": "5e4efdae",
   "metadata": {},
   "outputs": [],
   "source": []
  }
 ],
 "metadata": {
  "kernelspec": {
   "display_name": "Python 3 (ipykernel)",
   "language": "python",
   "name": "python3"
  },
  "language_info": {
   "codemirror_mode": {
    "name": "ipython",
    "version": 3
   },
   "file_extension": ".py",
   "mimetype": "text/x-python",
   "name": "python",
   "nbconvert_exporter": "python",
   "pygments_lexer": "ipython3",
   "version": "3.9.7"
  }
 },
 "nbformat": 4,
 "nbformat_minor": 5
}
