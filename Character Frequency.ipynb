{
 "cells": [
  {
   "cell_type": "markdown",
   "id": "bb7e6221",
   "metadata": {},
   "source": [
    "Character Frequency\n",
    "Complete a function that returns the number of times a given character occurs in the given string.\n",
    "Note: Please avoid importing libraries like Counter from collections (if using python) to get the correct solution. The interviewer would like to gauge your experience with initializing/populating dictionaries.\n",
    "Signature\n",
    "int returnCharNum(string word, char c)\n",
    "Input\n",
    "word: a string\n",
    "c: a character\n",
    "Note: Assume that the characters are case sensitive (capital letters are interpreted differently than lower case characters).\n",
    "Output\n",
    "An int representing the number of occurrences of the input character (c) in the word.\n",
    "Examples\n",
    "word: \"Mississippi\", c: \"s\"\n",
    "output: 4 \n",
    "\n",
    "word: \"Rainbow\", c: \"j\" \n",
    "output: 0 \n",
    "\n",
    "word: \"Mirror\", c: \"m\"\n",
    "output: 0\n",
    "\n",
    "word: \"\", c: \"c\"\n",
    "output: 0 \n",
    "\n",
    "word: \"hello\", c: \"\"\n",
    "output: 0\n",
    "Tips: Think about how to solve this without using an imported library, like Counter in collections if using python."
   ]
  },
  {
   "cell_type": "code",
   "execution_count": 2,
   "id": "52e05fde",
   "metadata": {},
   "outputs": [
    {
     "name": "stdout",
     "output_type": "stream",
     "text": [
      "Enter the word: happy\n",
      "Enter the character to be searched: p\n",
      "2\n"
     ]
    }
   ],
   "source": [
    "string1=input('Enter the word: ')\n",
    "character1=input('Enter the character to be searched: ')\n",
    "list_string=list(string1)\n",
    "count=0\n",
    "for element in list_string:\n",
    "    if character1==element:\n",
    "        count=count+1\n",
    "    else:\n",
    "        continue\n",
    "print(count)"
   ]
  },
  {
   "cell_type": "code",
   "execution_count": null,
   "id": "87b45b14",
   "metadata": {},
   "outputs": [],
   "source": []
  }
 ],
 "metadata": {
  "kernelspec": {
   "display_name": "Python 3 (ipykernel)",
   "language": "python",
   "name": "python3"
  },
  "language_info": {
   "codemirror_mode": {
    "name": "ipython",
    "version": 3
   },
   "file_extension": ".py",
   "mimetype": "text/x-python",
   "name": "python",
   "nbconvert_exporter": "python",
   "pygments_lexer": "ipython3",
   "version": "3.9.7"
  }
 },
 "nbformat": 4,
 "nbformat_minor": 5
}
