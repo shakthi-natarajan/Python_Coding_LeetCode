{
 "cells": [
  {
   "cell_type": "code",
   "execution_count": 6,
   "id": "f554d7c5",
   "metadata": {},
   "outputs": [
    {
     "name": "stdout",
     "output_type": "stream",
     "text": [
      "Enter number of elements in dictionary: 3\n",
      "Enter Key 1: cow\n",
      "Enter value 1:1\n",
      "Enter Key 2: dog\n",
      "Enter value 2:2\n",
      "Enter Key 3: pig\n",
      "Enter value 3:3\n",
      "Enter n to find the nth smallest: 2\n",
      "dog\n"
     ]
    }
   ],
   "source": [
    "'''\n",
    "Considerations:\n",
    "-> Input-Dictionay with key- string, value-int and nth element\n",
    "-> Output- key with the n th smallest number's key\n",
    "if nth number is out of bounds or 0 return null\n",
    "'''\n",
    "dict1={}\n",
    "list1=[]\n",
    "list2=[]\n",
    "length= int(input('Enter number of elements in dictionary: '))\n",
    "for i in range(length):\n",
    "    key= input(f'Enter Key {i+1}: ')\n",
    "    value=input(f'Enter value {i+1}:')\n",
    "    dict1[key]=value\n",
    "    list1.append(key)\n",
    "    list2.append(value)\n",
    "n=int(input('Enter n to find the nth smallest: '))\n",
    "\n",
    "sorted_list=sorted(list2)\n",
    "if n==0 or n>length:\n",
    "    print('null')\n",
    "else:\n",
    "    nth_value=sorted_list[n-1]\n",
    "    correct_index=list2.index(nth_value)\n",
    "    print(list1[correct_index])"
   ]
  },
  {
   "cell_type": "code",
   "execution_count": null,
   "id": "7211ca14",
   "metadata": {},
   "outputs": [],
   "source": []
  }
 ],
 "metadata": {
  "kernelspec": {
   "display_name": "Python 3 (ipykernel)",
   "language": "python",
   "name": "python3"
  },
  "language_info": {
   "codemirror_mode": {
    "name": "ipython",
    "version": 3
   },
   "file_extension": ".py",
   "mimetype": "text/x-python",
   "name": "python",
   "nbconvert_exporter": "python",
   "pygments_lexer": "ipython3",
   "version": "3.9.7"
  }
 },
 "nbformat": 4,
 "nbformat_minor": 5
}
