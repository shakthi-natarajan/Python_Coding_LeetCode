{
 "cells": [
  {
   "cell_type": "markdown",
   "id": "b4fe92be",
   "metadata": {},
   "source": [
    "# Insertion Sort- Insertion sort works by inserting elements from an unsorted list into a sorted subsection of the list, one item at a time."
   ]
  },
  {
   "cell_type": "code",
   "execution_count": 11,
   "id": "12abaa48",
   "metadata": {},
   "outputs": [
    {
     "name": "stdout",
     "output_type": "stream",
     "text": [
      "Enter number of items in the list: 10\n",
      "Enter the item1000\n",
      "Enter the item10000\n",
      "Enter the item100000\n",
      "Enter the item1000000\n",
      "Enter the item1\n",
      "Enter the item-1\n",
      "Enter the item0\n",
      "Enter the item100\n",
      "Enter the item9\n",
      "Enter the item-2\n",
      "[1000, 10000, 100000, 1000000, 1, -1, 0, 100, 9, -2]\n",
      "[-2, -1, 0, 1, 9, 100, 1000, 10000, 100000, 1000000]\n"
     ]
    }
   ],
   "source": [
    "list=[]\n",
    "n=int(input(\"Enter number of items in the list: \"))\n",
    "for e in range(n):\n",
    "    element=int(input(\"Enter the item\"))\n",
    "    list.append(element)\n",
    "print(list)\n",
    "for i in range(n):\n",
    "    #print('i',i)\n",
    "    #print(list[i])\n",
    "    if (i+1 < n):\n",
    "        for j in range(i+1,0,-1):\n",
    "            #print('j',j)\n",
    "            #print(list[j])\n",
    "            if list[j-1]>list[j]:\n",
    "                temp=list[j-1]\n",
    "                list[j-1]=list[j]\n",
    "                list[j]=temp\n",
    "print(list)"
   ]
  },
  {
   "cell_type": "code",
   "execution_count": null,
   "id": "bf687bcf",
   "metadata": {},
   "outputs": [],
   "source": []
  }
 ],
 "metadata": {
  "kernelspec": {
   "display_name": "Python 3 (ipykernel)",
   "language": "python",
   "name": "python3"
  },
  "language_info": {
   "codemirror_mode": {
    "name": "ipython",
    "version": 3
   },
   "file_extension": ".py",
   "mimetype": "text/x-python",
   "name": "python",
   "nbconvert_exporter": "python",
   "pygments_lexer": "ipython3",
   "version": "3.9.7"
  }
 },
 "nbformat": 4,
 "nbformat_minor": 5
}
