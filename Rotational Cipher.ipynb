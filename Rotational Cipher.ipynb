{
 "cells": [
  {
   "cell_type": "code",
   "execution_count": 1,
   "id": "c4f12d49",
   "metadata": {},
   "outputs": [
    {
     "name": "stdout",
     "output_type": "stream",
     "text": [
      "Enter the string to be rotated: Aditi_Baranidarzz?1234590\n",
      "Enter the rotational factor: 5\n",
      "finyn_gfwfsnifwee?6789045\n"
     ]
    }
   ],
   "source": [
    "string1=input('Enter the string to be rotated: ')\n",
    "rf=int(input('Enter the rotational factor: '))\n",
    "string_list=list(string1.lower())\n",
    "list1=list('abcdefghijklmnopqrstuvwxyz')\n",
    "len1=len(list1)\n",
    "list2=list('0123456789')\n",
    "len2=len(list2)\n",
    "final_rotated_list=[]\n",
    "\n",
    "for character in string_list:\n",
    "    if character in list1:\n",
    "        index1=list1.index(character)\n",
    "        traverse_by=index1+rf\n",
    "        if traverse_by > 25:\n",
    "            traverse_by=traverse_by%25\n",
    "            #traverse_by=traverse_by-25 # for x it will be 23+4=27-25= 2 which is b-- index for 2 is 1\n",
    "            final_rotated_list.append(list1[traverse_by-1])\n",
    "        else:\n",
    "            final_rotated_list.append(list1[traverse_by])\n",
    "    elif character in list2:\n",
    "        index2=list2.index(character)\n",
    "        traverse_by=index2+rf\n",
    "        if traverse_by > 9:\n",
    "            traverse_by=traverse_by%9\n",
    "            final_rotated_list.append(list2[traverse_by-1])\n",
    "        else:\n",
    "            final_rotated_list.append(list2[traverse_by])\n",
    "    else:\n",
    "        final_rotated_list.append(character)\n",
    "final_rotated_string=''.join(final_rotated_list)\n",
    "print(final_rotated_string)"
   ]
  }
 ],
 "metadata": {
  "kernelspec": {
   "display_name": "Python 3 (ipykernel)",
   "language": "python",
   "name": "python3"
  },
  "language_info": {
   "codemirror_mode": {
    "name": "ipython",
    "version": 3
   },
   "file_extension": ".py",
   "mimetype": "text/x-python",
   "name": "python",
   "nbconvert_exporter": "python",
   "pygments_lexer": "ipython3",
   "version": "3.9.7"
  }
 },
 "nbformat": 4,
 "nbformat_minor": 5
}
