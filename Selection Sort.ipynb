{
 "cells": [
  {
   "cell_type": "markdown",
   "id": "a34be516",
   "metadata": {},
   "source": [
    "# Selection sort algorithm- works by selecting the smallest element from an unsorted list and moving it to the front."
   ]
  },
  {
   "cell_type": "code",
   "execution_count": 27,
   "id": "50a3d882",
   "metadata": {},
   "outputs": [
    {
     "name": "stdout",
     "output_type": "stream",
     "text": [
      "Enter number of elements in the list:6\n",
      "Enter the list item:3\n",
      "Enter the list item:5\n",
      "Enter the list item:2\n",
      "Enter the list item:1\n",
      "Enter the list item:6\n",
      "Enter the list item:9\n",
      "[3, 5, 2, 1, 6, 9]\n",
      "[1, 2, 3, 5, 6, 9]\n"
     ]
    }
   ],
   "source": [
    "list=[]\n",
    "n=int(input(\"Enter number of elements in the list:\"))\n",
    "for i in range(n):\n",
    "    element= int(input('Enter the list item:'))\n",
    "    list.append(element)\n",
    "print(list)\n",
    "\n",
    "Sorted_List=[]\n",
    "#Sorting\n",
    "for i in range(n):\n",
    "    #print('i:',i)\n",
    "    if i<n-1:\n",
    "        j=i+1\n",
    "        while j<n:\n",
    "            #print('j',j)\n",
    "            if list[i]> list[j]:\n",
    "                temp=list[i]\n",
    "                list[i]=list[j]\n",
    "                list[j]=temp\n",
    "                #print(list)\n",
    "            j=j+1\n",
    "    else:\n",
    "        break\n",
    "print(list)"
   ]
  }
 ],
 "metadata": {
  "kernelspec": {
   "display_name": "Python 3 (ipykernel)",
   "language": "python",
   "name": "python3"
  },
  "language_info": {
   "codemirror_mode": {
    "name": "ipython",
    "version": 3
   },
   "file_extension": ".py",
   "mimetype": "text/x-python",
   "name": "python",
   "nbconvert_exporter": "python",
   "pygments_lexer": "ipython3",
   "version": "3.9.7"
  }
 },
 "nbformat": 4,
 "nbformat_minor": 5
}
